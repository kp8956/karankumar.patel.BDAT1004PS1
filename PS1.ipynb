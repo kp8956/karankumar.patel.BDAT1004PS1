{
 "cells": [
  {
   "cell_type": "code",
   "execution_count": 38,
   "id": "16896038",
   "metadata": {},
   "outputs": [
    {
     "name": "stdout",
     "output_type": "stream",
     "text": [
      "BDAT 1004 – Data Programming\n",
      "Problem set 1\n"
     ]
    }
   ],
   "source": [
    "print('BDAT 1004 – Data Programming')\n",
    "print('Problem set 1')"
   ]
  },
  {
   "cell_type": "code",
   "execution_count": 39,
   "id": "17e835da",
   "metadata": {},
   "outputs": [
    {
     "name": "stdout",
     "output_type": "stream",
     "text": [
      "Ans 1\n",
      "<class 'int'>\n",
      "<class 'float'>\n",
      "<class 'bool'>\n",
      "<class 'str'>\n",
      "<class 'int'>\n",
      "<class 'str'>\n",
      "<class 'str'>\n",
      "<class 'float'>\n",
      "<class 'int'>\n",
      "<class 'set'>\n",
      "<class 'bool'>\n",
      "<class 'float'>\n"
     ]
    }
   ],
   "source": [
    "import math\n",
    "print('Ans 1')\n",
    "print(type(5))\n",
    "print(type(5.0))\n",
    "print(type(5>1))\n",
    "print(type('5'))\n",
    "print(type(5*2))\n",
    "print(type('5'*2))\n",
    "print(type('5'+'2'))\n",
    "print(type(5/2))\n",
    "print(type(5%2))\n",
    "print(type({5,2,1}))\n",
    "print(type(5==3))\n",
    "print(type(math.pi))"
   ]
  },
  {
   "cell_type": "code",
   "execution_count": 40,
   "id": "0a5343a2",
   "metadata": {},
   "outputs": [
    {
     "name": "stdout",
     "output_type": "stream",
     "text": [
      "Ans 2a\n",
      "Number of letters in the word: 34\n"
     ]
    }
   ],
   "source": [
    "#len() for count the letters\n",
    "print('Ans 2a')\n",
    "word = \"Supercalifragilisticexpialidocious\"\n",
    "letter= len(word)\n",
    "print(\"Number of letters in the word:\", letter)\n"
   ]
  },
  {
   "cell_type": "code",
   "execution_count": 41,
   "id": "9c790536",
   "metadata": {},
   "outputs": [
    {
     "name": "stdout",
     "output_type": "stream",
     "text": [
      "Ans 2b\n",
      "word contains substring 'ice'\n"
     ]
    }
   ],
   "source": [
    "\n",
    "print('Ans 2b')\n",
    "word=\"Supercalifragilisticexpialidocious\"\n",
    "substring=\"ice\"\n",
    "#use the in key to find word contains substring or not\n",
    "a=substring in word\n",
    "#use if else\n",
    "if a is True:\n",
    "    print(\"word contains substring 'ice'\")\n",
    "else:\n",
    "    print(\"word does not contain substring 'ice'\")\n"
   ]
  },
  {
   "cell_type": "code",
   "execution_count": 42,
   "id": "6d76951f",
   "metadata": {},
   "outputs": [
    {
     "name": "stdout",
     "output_type": "stream",
     "text": [
      "Ans 2c\n",
      "Supercalifragilisticexpialidocious is the longest word\n"
     ]
    }
   ],
   "source": [
    "print('Ans 2c')\n",
    "\n",
    "#define all words\n",
    "\n",
    "word1=\"Supercalifragilisticexpialidocious\"\n",
    "word2=\"Honorificabilitudinitatibus\"\n",
    "word3=\"Bababadalgharaghtakamminarronnkonn\"\n",
    "\n",
    "#count the letters of words with len()\n",
    "\n",
    "lenth1=len(word1)\n",
    "lenth2=len(word2)\n",
    "lenth3=len(word3)\n",
    "\n",
    "#use if elif loop compare counts of letters\n",
    "\n",
    "if lenth1>=lenth2 and lenth1>=lenth3:\n",
    "    print('Supercalifragilisticexpialidocious is the longest word')\n",
    "elif lenth2>=lenth1 and lenth2>=lenth3:\n",
    "    print('Honorificabilitudinitatibus is the longest word')\n",
    "else:\n",
    "    print('Bababadalgharaghtakamminarronnkonn is the longest word')\n",
    "            "
   ]
  },
  {
   "cell_type": "code",
   "execution_count": 43,
   "id": "e35502c0",
   "metadata": {},
   "outputs": [
    {
     "name": "stdout",
     "output_type": "stream",
     "text": [
      "Ans 2d\n",
      "First composer in the dictionary: Bartok\n",
      "Last composer in the dictionary: Buxtehude\n"
     ]
    }
   ],
   "source": [
    "print('Ans 2d')\n",
    "composers = ['Berlioz', 'Borodin', 'Brian', 'Bartok', 'Bellini', 'Buxtehude', 'Bernstein']\n",
    "\n",
    "# find the first composer in dictionary\n",
    "first_composer = min(composers)\n",
    "\n",
    "# Find the last composer in dictionary\n",
    "last_composer = max(composers)\n",
    "\n",
    "print(\"First composer in the dictionary:\", first_composer)\n",
    "print(\"Last composer in the dictionary:\", last_composer)\n"
   ]
  },
  {
   "cell_type": "code",
   "execution_count": 44,
   "id": "acc82d16",
   "metadata": {},
   "outputs": [
    {
     "name": "stdout",
     "output_type": "stream",
     "text": [
      "Ans 3\n"
     ]
    },
    {
     "data": {
      "text/plain": [
       "1.7320508075688772"
      ]
     },
     "execution_count": 44,
     "metadata": {},
     "output_type": "execute_result"
    }
   ],
   "source": [
    "print('Ans 3')\n",
    "\n",
    "#define function\n",
    "\n",
    "def triangleArea(a, b, c):\n",
    "    \n",
    "#calculate perameter s\n",
    "\n",
    "    s = (a + b + c) / 2\n",
    "\n",
    "#Calculate the area using heron's formula\n",
    "\n",
    "    area =math.sqrt((s * (s - a) * (s - b) * (s - c)))\n",
    "\n",
    "    return area\n",
    "\n",
    "#test:\n",
    "\n",
    "triangleArea(2,2,2)"
   ]
  },
  {
   "cell_type": "code",
   "execution_count": 45,
   "id": "97c5a2be",
   "metadata": {},
   "outputs": [
    {
     "name": "stdout",
     "output_type": "stream",
     "text": [
      "Ans 4\n",
      "Enter the number of elements to be stored in the array: 5\n",
      "element - 0 : 48\n",
      "element - 1 : 59\n",
      "element - 2 : 23\n",
      "element - 3 : 48\n",
      "element - 4 : 57\n",
      "Odd elements are: [59, 23, 57]\n",
      "Even elements are: [48, 48]\n"
     ]
    }
   ],
   "source": [
    "print('Ans 4')\n",
    "\n",
    "#enter the number of elements to be stored in the array\n",
    "\n",
    "num_elements = int(input(\"Enter the number of elements to be stored in the array: \"))\n",
    "\n",
    "#initialize empty arrays for odd and even numbers\n",
    "\n",
    "odd_integers = []\n",
    "even_integers = []\n",
    "\n",
    "#enter elements into the array\n",
    "\n",
    "for i in range(num_elements):\n",
    "    element = int(input(f\"element - {i} : \"))\n",
    "    if element % 2 == 0:\n",
    "        even_integers.append(element)\n",
    "    else:\n",
    "        odd_integers.append(element)\n",
    "\n",
    "#the separated arrays\n",
    "\n",
    "print(\"Odd elements are:\", odd_integers)\n",
    "print(\"Even elements are:\", even_integers)\n"
   ]
  },
  {
   "cell_type": "code",
   "execution_count": 46,
   "id": "7cf3ed96",
   "metadata": {},
   "outputs": [
    {
     "name": "stdout",
     "output_type": "stream",
     "text": [
      "Ans 5a\n",
      "True\n",
      "False\n"
     ]
    }
   ],
   "source": [
    "print('Ans 5a')\n",
    "\n",
    "#define function for que 5a\n",
    "\n",
    "def inside(x,y,x1,y1,x2,y2):\n",
    "    \n",
    "# Check if (x, y) is inside the rectangle\n",
    "    if x1 <= x <= x2 and y1 <= y <= y2:\n",
    "        print(True) \n",
    "    else:\n",
    "        print(False)\n",
    "\n",
    "#test function\n",
    "inside(1,1,0,0,2,3)\n",
    "inside(-1,-1,0,0,2,3)\n",
    "\n"
   ]
  },
  {
   "cell_type": "code",
   "execution_count": 47,
   "id": "8222b484",
   "metadata": {},
   "outputs": [
    {
     "name": "stdout",
     "output_type": "stream",
     "text": [
      "Ans 5b\n",
      "False\n"
     ]
    }
   ],
   "source": [
    "print('Ans 5b')\n",
    "\n",
    "#define function for que 5b\n",
    "\n",
    "def inside1(x,y,x1,y1,x2,y2,x3,y3,x4,y4):\n",
    "    \n",
    "# Check if (x, y) is inside the rectangle\n",
    "    if (x1 <= x <= x2 and y1 <= y <= y2) and (x3 <= x <= x4 and y3 <= y <= y4):\n",
    "        print(True)\n",
    "    else:\n",
    "        print(False)\n",
    "        \n",
    "#test function\n",
    "inside1(1,1,0.3,0.5,1.1,0.7,0.5,0.2,1.1,2)"
   ]
  },
  {
   "cell_type": "code",
   "execution_count": 48,
   "id": "2800ca79",
   "metadata": {},
   "outputs": [
    {
     "name": "stdout",
     "output_type": "stream",
     "text": [
      "Ans 6\n",
      "appyhay\n",
      "arankay\n",
      "aptoplay\n",
      "ouchcay\n"
     ]
    }
   ],
   "source": [
    "print('Ans 6')\n",
    "\n",
    "#define function\n",
    "\n",
    "def pig(word):\n",
    "    \n",
    "#convert all characters into lower case\n",
    "    word=word.lower()\n",
    "\n",
    " #check if first letter is vowel\n",
    "\n",
    "    if word[0] in ['a','e','i','o','u']:\n",
    "        return word+'way'\n",
    "    else:\n",
    "        \n",
    "#find the first vowel character of the word\n",
    "        for i in range(len(word)):\n",
    "            if word[i] in ['a','e','i','o','u']:\n",
    "#move the all consonant prefix at the end and append 'ay'\n",
    "                return word[i:] + word[:i] + 'ay'\n",
    "\n",
    "#define the words and test function\n",
    "word1='happy'\n",
    "word2='karan'\n",
    "word3='Laptop'\n",
    "word4='COUCH'\n",
    "\n",
    "#print outputs\n",
    "print(pig(word1))\n",
    "print(pig(word2))  \n",
    "print(pig(word3))  \n",
    "print(pig(word4))  \n"
   ]
  },
  {
   "cell_type": "code",
   "execution_count": 49,
   "id": "39f581cb",
   "metadata": {},
   "outputs": [
    {
     "name": "stdout",
     "output_type": "stream",
     "text": [
      "Ans 7\n",
      "There are 15 of blood group A\n",
      "There are 13 of blood group AB\n",
      "There are 1 of blood group B\n",
      "There are 15 of blood group O\n",
      "There are 0 of blood group OO\n"
     ]
    }
   ],
   "source": [
    "print('Ans 7')\n",
    "#define function\n",
    "def bldcount(File_Name):\n",
    "    file_open = open(File_Name)\n",
    "    \n",
    "#will read the file\n",
    "    File = file_open.read()\n",
    "    \n",
    "#count numbers of entered blood group with split()\n",
    "    A = File.split().count('A')\n",
    "    AB = File.split().count('AB')\n",
    "    O = File.split().count('O')\n",
    "    OO = File.split().count('OO')\n",
    "    B = File.split().count('B')\n",
    "    \n",
    "#print outputs\n",
    "    print(\"There are\", A, \"of blood group A\")\n",
    "    print(\"There are\", AB, \"of blood group AB\")\n",
    "    print(\"There are\", B, \"of blood group B\")\n",
    "    print(\"There are\", O, \"of blood group O\")\n",
    "    print(\"There are\", OO, \"of blood group OO\")\n",
    "\n",
    "#test function\n",
    "bldcount('bloodtype1.txt')"
   ]
  },
  {
   "cell_type": "code",
   "execution_count": 50,
   "id": "727cd535",
   "metadata": {},
   "outputs": [
    {
     "name": "stdout",
     "output_type": "stream",
     "text": [
      "Ans 8\n",
      "Your 100 AUD will be 103.45157 USD\n",
      "Your 100 INR will be 1.77643 USD\n",
      "Your 100 GBP will be 155.50988999999998 USD\n"
     ]
    }
   ],
   "source": [
    "print('Ans 8')\n",
    "\n",
    "#define function for converting currency\n",
    "def curnov(country,value):\n",
    "    \n",
    "#will read the saved file\n",
    "    File_name = open(\"currencies.txt\")\n",
    "    cr = File_name.read().split(\"\\n\")\n",
    "    \n",
    "#creating dictionary\n",
    "    dictionary = {}\n",
    "\n",
    "#coverting currency\n",
    "    for i in cr:\n",
    "        i1 = i.split(\"\\t\")\n",
    "        dictionary[i1[0]]= i1[1]\n",
    "    print(\"Your\", value, country, \"will be\", float((dictionary[country]))*value, \"USD\")\n",
    "\n",
    "#test function    \n",
    "curnov(\"AUD\", 100)\n",
    "curnov(\"INR\", 100)\n",
    "curnov(\"GBP\", 100)"
   ]
  },
  {
   "cell_type": "code",
   "execution_count": 51,
   "id": "10ebfea1",
   "metadata": {},
   "outputs": [
    {
     "name": "stdout",
     "output_type": "stream",
     "text": [
      "Ans 9\n"
     ]
    },
    {
     "ename": "TypeError",
     "evalue": "unsupported operand type(s) for +: 'int' and 'str'",
     "output_type": "error",
     "traceback": [
      "\u001b[1;31m---------------------------------------------------------------------------\u001b[0m",
      "\u001b[1;31mTypeError\u001b[0m                                 Traceback (most recent call last)",
      "Cell \u001b[1;32mIn[51], line 3\u001b[0m\n\u001b[0;32m      1\u001b[0m \u001b[38;5;28mprint\u001b[39m(\u001b[38;5;124m'\u001b[39m\u001b[38;5;124mAns 9\u001b[39m\u001b[38;5;124m'\u001b[39m)                                       \u001b[38;5;66;03m# error types\u001b[39;00m\n\u001b[0;32m      2\u001b[0m \u001b[38;5;66;03m#find the error\u001b[39;00m\n\u001b[1;32m----> 3\u001b[0m \u001b[38;5;28mprint\u001b[39m (\u001b[38;5;241m6\u001b[39m \u001b[38;5;241m+\u001b[39m \u001b[38;5;124m'\u001b[39m\u001b[38;5;124ma\u001b[39m\u001b[38;5;124m'\u001b[39m)                                      \u001b[38;5;66;03m#TypeError: unsupported operand type(s) for +: 'int' and 'str'\u001b[39;00m\n\u001b[0;32m      6\u001b[0m Practice_list \u001b[38;5;241m=\u001b[39m [\u001b[38;5;241m10\u001b[39m,\u001b[38;5;241m4\u001b[39m,\u001b[38;5;241m234\u001b[39m,\u001b[38;5;241m65\u001b[39m,\u001b[38;5;241m23\u001b[39m,\u001b[38;5;241m87\u001b[39m,\u001b[38;5;241m3\u001b[39m,\u001b[38;5;241m0\u001b[39m,\u001b[38;5;241m777\u001b[39m,\u001b[38;5;241m5\u001b[39m]       \u001b[38;5;66;03m#NameError: name 'practice_list' is not defined\u001b[39;00m\n\u001b[0;32m      7\u001b[0m \u001b[38;5;28mprint\u001b[39m(practice_list[\u001b[38;5;241m12\u001b[39m])\n",
      "\u001b[1;31mTypeError\u001b[0m: unsupported operand type(s) for +: 'int' and 'str'"
     ]
    }
   ],
   "source": [
    "print('Ans 9')                                       # error types\n",
    "#find the error\n",
    "print (6 + 'a')                                      #TypeError: unsupported operand type(s) for +: 'int' and 'str'\n",
    "\n",
    "\n",
    "Practice_list = [10,4,234,65,23,87,3,0,777,5]       #NameError: name 'practice_list' is not defined\n",
    "print(practice_list[12])\n",
    "                                                    \n",
    "print(math.sqrt(-1.0))                              #NameError: name 'math' is not defined\n",
    "\n",
    "print(x)                                            #NameError: name 'x' is not defined\n",
    "\n",
    "\n",
    "File = open('georgian.txt')                         #FileNotFoundError: [Errno 2] No such file or directory: 'georgian.txt'\n"
   ]
  },
  {
   "cell_type": "code",
   "execution_count": 52,
   "id": "9b4210b1",
   "metadata": {},
   "outputs": [
    {
     "name": "stdout",
     "output_type": "stream",
     "text": [
      "Ans 10\n",
      "[1, 1, 1, 3, 5, 1, 1, 2, 1, 0, 1, 0, 1, 2, 4, 0, 1, 2, 0, 3, 1, 0, 1, 1, 0, 0]\n"
     ]
    }
   ],
   "source": [
    "print('Ans 10')\n",
    "#define function\n",
    "def frequencies(sentence):\n",
    "    \n",
    "#creating array\n",
    "    array = [0] * 26\n",
    "    \n",
    "#creating for loop to find frequency\n",
    "    for i in sentence:\n",
    "        if i == \" \":\n",
    "            continue\n",
    "        value = ord(i) - ord('a')\n",
    "        array[value] += 1\n",
    "    print(array)\n",
    "    \n",
    "#print final output  \n",
    "frequencies(\"the quick red fox got bored and went home\")"
   ]
  }
 ],
 "metadata": {
  "kernelspec": {
   "display_name": "Python 3 (ipykernel)",
   "language": "python",
   "name": "python3"
  },
  "language_info": {
   "codemirror_mode": {
    "name": "ipython",
    "version": 3
   },
   "file_extension": ".py",
   "mimetype": "text/x-python",
   "name": "python",
   "nbconvert_exporter": "python",
   "pygments_lexer": "ipython3",
   "version": "3.11.4"
  }
 },
 "nbformat": 4,
 "nbformat_minor": 5
}
