{
 "cells": [
  {
   "cell_type": "code",
   "execution_count": 10,
   "id": "ba7867cf",
   "metadata": {},
   "outputs": [
    {
     "name": "stdout",
     "output_type": "stream",
     "text": [
      "BDAT 1004 – Data Programming\n",
      "Problem set 1\n"
     ]
    }
   ],
   "source": [
    "print('BDAT 1004 – Data Programming')\n",
    "print('Problem set 1')"
   ]
  },
  {
   "cell_type": "code",
   "execution_count": 9,
   "id": "eb483f16",
   "metadata": {},
   "outputs": [
    {
     "name": "stdout",
     "output_type": "stream",
     "text": [
      "Ans 1\n",
      "<class 'int'>\n",
      "<class 'float'>\n",
      "<class 'bool'>\n",
      "<class 'str'>\n",
      "<class 'int'>\n",
      "<class 'str'>\n",
      "<class 'str'>\n",
      "<class 'float'>\n",
      "<class 'int'>\n",
      "<class 'set'>\n",
      "<class 'bool'>\n",
      "<class 'float'>\n"
     ]
    }
   ],
   "source": [
    "import math\n",
    "print('Ans 1')\n",
    "print(type(5))\n",
    "print(type(5.0))\n",
    "print(type(5>1))\n",
    "print(type('5'))\n",
    "print(type(5*2))\n",
    "print(type('5'*2))\n",
    "print(type('5'+'2'))\n",
    "print(type(5/2))\n",
    "print(type(5%2))\n",
    "print(type({5,2,1}))\n",
    "print(type(5==3))\n",
    "print(type(math.pi))"
   ]
  },
  {
   "cell_type": "code",
   "execution_count": 24,
   "id": "e9120519",
   "metadata": {},
   "outputs": [
    {
     "name": "stdout",
     "output_type": "stream",
     "text": [
      "Ans 2a\n",
      "Number of letters in the word: 34\n"
     ]
    }
   ],
   "source": [
    "#len() for count the letters\n",
    "print('Ans 2a')\n",
    "word = \"Supercalifragilisticexpialidocious\"\n",
    "letter= len(word)\n",
    "print(\"Number of letters in the word:\", letter)\n"
   ]
  },
  {
   "cell_type": "code",
   "execution_count": 25,
   "id": "75bd99fb",
   "metadata": {},
   "outputs": [
    {
     "name": "stdout",
     "output_type": "stream",
     "text": [
      "Ans 2b\n",
      "word contains substring 'ice'\n"
     ]
    }
   ],
   "source": [
    "\n",
    "print('Ans 2b')\n",
    "word=\"Supercalifragilisticexpialidocious\"\n",
    "substring=\"ice\"\n",
    "#use the in key to find word contains substring or not\n",
    "a=substring in word\n",
    "#use if else\n",
    "if a is True:\n",
    "    print(\"word contains substring 'ice'\")\n",
    "else:\n",
    "    print(\"word does not contain substring 'ice'\")\n"
   ]
  },
  {
   "cell_type": "code",
   "execution_count": 39,
   "id": "8515dfcc",
   "metadata": {},
   "outputs": [
    {
     "name": "stdout",
     "output_type": "stream",
     "text": [
      "Ans 2c\n",
      "Supercalifragilisticexpialidocious is the longest word\n"
     ]
    }
   ],
   "source": [
    "print('Ans 2c')\n",
    "#define all words\n",
    "word1=\"Supercalifragilisticexpialidocious\"\n",
    "word2=\"Honorificabilitudinitatibus\"\n",
    "word3=\"Bababadalgharaghtakamminarronnkonn\"\n",
    "#count the letters of words with len()\n",
    "lenth1=len(word1)\n",
    "lenth2=len(word2)\n",
    "lenth3=len(word3)\n",
    "#use if elif loop compare counts of letters\n",
    "if lenth1>=lenth2 and lenth1>=lenth3:\n",
    "    print('Supercalifragilisticexpialidocious is the longest word')\n",
    "elif lenth2>=lenth1 and lenth2>=lenth3:\n",
    "    print('Honorificabilitudinitatibus is the longest word')\n",
    "else:\n",
    "    print('Bababadalgharaghtakamminarronnkonn is the longest word')\n",
    "            "
   ]
  },
  {
   "cell_type": "code",
   "execution_count": 40,
   "id": "65efb2ba",
   "metadata": {},
   "outputs": [
    {
     "name": "stdout",
     "output_type": "stream",
     "text": [
      "Ans 2d\n",
      "First composer in the dictionary: Bartok\n",
      "Last composer in the dictionary: Buxtehude\n"
     ]
    }
   ],
   "source": [
    "print('Ans 2d')\n",
    "composers = ['Berlioz', 'Borodin', 'Brian', 'Bartok', 'Bellini', 'Buxtehude', 'Bernstein']\n",
    "\n",
    "# find the first composer in dictionary\n",
    "first_composer = min(composers)\n",
    "\n",
    "# Find the last composer in dictionary\n",
    "last_composer = max(composers)\n",
    "\n",
    "print(\"First composer in the dictionary:\", first_composer)\n",
    "print(\"Last composer in the dictionary:\", last_composer)\n"
   ]
  },
  {
   "cell_type": "code",
   "execution_count": 61,
   "id": "fda3d42b",
   "metadata": {},
   "outputs": [
    {
     "name": "stdout",
     "output_type": "stream",
     "text": [
      "Ans 3\n"
     ]
    },
    {
     "data": {
      "text/plain": [
       "1.7320508075688772"
      ]
     },
     "execution_count": 61,
     "metadata": {},
     "output_type": "execute_result"
    }
   ],
   "source": [
    "print('Ans 3')\n",
    "#define function\n",
    "def triangleArea(a, b, c):\n",
    "#calculate perameter s\n",
    "    s = (a + b + c) / 2\n",
    "\n",
    "#Calculate the area using heron's formula\n",
    "    area =math.sqrt((s * (s - a) * (s - b) * (s - c)))\n",
    "\n",
    "    return area\n",
    "\n",
    "#test:\n",
    "triangleArea(2,2,2)"
   ]
  },
  {
   "cell_type": "code",
   "execution_count": 68,
   "id": "eb61cfbc",
   "metadata": {},
   "outputs": [
    {
     "name": "stdout",
     "output_type": "stream",
     "text": [
      "Ans 4\n",
      "Enter the number of elements to be stored in the array: 5\n",
      "element - 0 : 15\n",
      "element - 1 : 26\n",
      "element - 2 : 79\n",
      "element - 3 : 23\n",
      "element - 4 : 58\n",
      "Odd elements are: [15, 79, 23]\n",
      "Even elements are: [26, 58]\n"
     ]
    }
   ],
   "source": [
    "print('Ans 4')\n",
    "#enter the number of elements to be stored in the array\n",
    "num_elements = int(input(\"Enter the number of elements to be stored in the array: \"))\n",
    "\n",
    "#initialize empty arrays for odd and even numbers\n",
    "odd_integers = []\n",
    "even_integers = []\n",
    "\n",
    "#enter elements into the array\n",
    "for i in range(num_elements):\n",
    "    element = int(input(f\"element - {i} : \"))\n",
    "    if element % 2 == 0:\n",
    "        even_integers.append(element)\n",
    "    else:\n",
    "        odd_integers.append(element)\n",
    "\n",
    "#the separated arrays\n",
    "print(\"Odd elements are:\", odd_integers)\n",
    "print(\"Even elements are:\", even_integers)\n"
   ]
  },
  {
   "cell_type": "code",
   "execution_count": 94,
   "id": "c31777a2",
   "metadata": {},
   "outputs": [
    {
     "name": "stdout",
     "output_type": "stream",
     "text": [
      "Ans 5a\n",
      "True\n",
      "False\n"
     ]
    }
   ],
   "source": [
    "print('Ans 5a')\n",
    "#define function for que 5a\n",
    "def inside(x,y,x1,y1,x2,y2):\n",
    "    # Check if (x, y) is inside the rectangle\n",
    "    if x1 <= x <= x2 and y1 <= y <= y2:\n",
    "        print(True) \n",
    "    else:\n",
    "        print(False)\n",
    "\n",
    "#test function\n",
    "inside(1,1,0,0,2,3)\n",
    "inside(-1,-1,0,0,2,3)\n",
    "\n"
   ]
  },
  {
   "cell_type": "code",
   "execution_count": 98,
   "id": "0c23abd2",
   "metadata": {},
   "outputs": [
    {
     "name": "stdout",
     "output_type": "stream",
     "text": [
      "Ans 5b\n",
      "False\n"
     ]
    }
   ],
   "source": [
    "print('Ans 5b')\n",
    "#define function for que 5b\n",
    "def inside1(x,y,x1,y1,x2,y2,x3,y3,x4,y4):\n",
    "    # Check if (x, y) is inside the rectangle\n",
    "    if (x1 <= x <= x2 and y1 <= y <= y2) and (x3 <= x <= x4 and y3 <= y <= y4):\n",
    "        print(True)\n",
    "    else:\n",
    "        print(False)\n",
    "#test function\n",
    "inside1(1,1,0.3,0.5,1.1,0.7,0.5,0.2,1.1,2)"
   ]
  },
  {
   "cell_type": "code",
   "execution_count": 102,
   "id": "5884ddbd",
   "metadata": {},
   "outputs": [
    {
     "name": "stdout",
     "output_type": "stream",
     "text": [
      "Ans 6\n",
      "appyhay\n",
      "arankay\n",
      "aptoplay\n",
      "ouchcay\n"
     ]
    }
   ],
   "source": [
    "print('Ans 6')\n",
    "#define function\n",
    "def pig(word):\n",
    "    #convert all characters into lower case\n",
    "    word=word.lower()\n",
    "\n",
    "    #check if first letter is vowel\n",
    "    if word[0] in ['a','e','i','o','u']:\n",
    "        return word+'way'\n",
    "    else:\n",
    "        #find the first vowel character of the word\n",
    "        for i in range(len(word)):\n",
    "            if word[i] in ['a','e','i','o','u']:\n",
    "                #move the all consonant prefix at the end and append 'ay'\n",
    "                return word[i:] + word[:i] + 'ay'\n",
    "\n",
    "#define the words and test function\n",
    "word1='happy'\n",
    "word2='karan'\n",
    "word3='Laptop'\n",
    "word4='COUCH'\n",
    "\n",
    "#print outputs\n",
    "print(pig(word1))\n",
    "print(pig(word2))  \n",
    "print(pig(word3))  \n",
    "print(pig(word4))  \n"
   ]
  },
  {
   "cell_type": "code",
   "execution_count": 103,
   "id": "6916bed2",
   "metadata": {},
   "outputs": [],
   "source": [
    "def bldcount(File_Name):\n",
    "    file_open = open(File_Name)\n",
    "    File = file_open.read()\n",
    "    dictap = {0:\"None\"}\n",
    "    A = File.split().count('A')\n",
    "    AB = File.split().count('AB')\n",
    "    O = File.split().count('O')\n",
    "    OO = File.split().count('OO')\n",
    "    B = File.split().count('B')\n",
    "\n",
    "    print(\"There are\", A, \"of blood group A\")\n",
    "    print(\"There are\", AB, \"of blood group AB\")\n",
    "    print(\"There are\", B, \"of blood group B\")\n",
    "    print(\"There are\", O, \"of blood group O\")\n",
    "    print(\"There are\", OO, \"of blood group OO\")"
   ]
  },
  {
   "cell_type": "code",
   "execution_count": 104,
   "id": "d4485c1c",
   "metadata": {},
   "outputs": [
    {
     "ename": "FileNotFoundError",
     "evalue": "[Errno 2] No such file or directory: 'bloodtype1.txt'",
     "output_type": "error",
     "traceback": [
      "\u001b[1;31m---------------------------------------------------------------------------\u001b[0m",
      "\u001b[1;31mFileNotFoundError\u001b[0m                         Traceback (most recent call last)",
      "Cell \u001b[1;32mIn[104], line 1\u001b[0m\n\u001b[1;32m----> 1\u001b[0m bldcount(\u001b[38;5;124m'\u001b[39m\u001b[38;5;124mbloodtype1.txt\u001b[39m\u001b[38;5;124m'\u001b[39m)\n",
      "Cell \u001b[1;32mIn[103], line 2\u001b[0m, in \u001b[0;36mbldcount\u001b[1;34m(filename)\u001b[0m\n\u001b[0;32m      1\u001b[0m \u001b[38;5;28;01mdef\u001b[39;00m \u001b[38;5;21mbldcount\u001b[39m(filename):\n\u001b[1;32m----> 2\u001b[0m     file_open \u001b[38;5;241m=\u001b[39m \u001b[38;5;28mopen\u001b[39m(filename)\n\u001b[0;32m      3\u001b[0m     File \u001b[38;5;241m=\u001b[39m file_open\u001b[38;5;241m.\u001b[39mread()\n\u001b[0;32m      4\u001b[0m     dictap \u001b[38;5;241m=\u001b[39m {\u001b[38;5;241m0\u001b[39m:\u001b[38;5;124m\"\u001b[39m\u001b[38;5;124mNone\u001b[39m\u001b[38;5;124m\"\u001b[39m}\n",
      "File \u001b[1;32mE:\\anaconda3\\Lib\\site-packages\\IPython\\core\\interactiveshell.py:284\u001b[0m, in \u001b[0;36m_modified_open\u001b[1;34m(file, *args, **kwargs)\u001b[0m\n\u001b[0;32m    277\u001b[0m \u001b[38;5;28;01mif\u001b[39;00m file \u001b[38;5;129;01min\u001b[39;00m {\u001b[38;5;241m0\u001b[39m, \u001b[38;5;241m1\u001b[39m, \u001b[38;5;241m2\u001b[39m}:\n\u001b[0;32m    278\u001b[0m     \u001b[38;5;28;01mraise\u001b[39;00m \u001b[38;5;167;01mValueError\u001b[39;00m(\n\u001b[0;32m    279\u001b[0m         \u001b[38;5;124mf\u001b[39m\u001b[38;5;124m\"\u001b[39m\u001b[38;5;124mIPython won\u001b[39m\u001b[38;5;124m'\u001b[39m\u001b[38;5;124mt let you open fd=\u001b[39m\u001b[38;5;132;01m{\u001b[39;00mfile\u001b[38;5;132;01m}\u001b[39;00m\u001b[38;5;124m by default \u001b[39m\u001b[38;5;124m\"\u001b[39m\n\u001b[0;32m    280\u001b[0m         \u001b[38;5;124m\"\u001b[39m\u001b[38;5;124mas it is likely to crash IPython. If you know what you are doing, \u001b[39m\u001b[38;5;124m\"\u001b[39m\n\u001b[0;32m    281\u001b[0m         \u001b[38;5;124m\"\u001b[39m\u001b[38;5;124myou can use builtins\u001b[39m\u001b[38;5;124m'\u001b[39m\u001b[38;5;124m open.\u001b[39m\u001b[38;5;124m\"\u001b[39m\n\u001b[0;32m    282\u001b[0m     )\n\u001b[1;32m--> 284\u001b[0m \u001b[38;5;28;01mreturn\u001b[39;00m io_open(file, \u001b[38;5;241m*\u001b[39margs, \u001b[38;5;241m*\u001b[39m\u001b[38;5;241m*\u001b[39mkwargs)\n",
      "\u001b[1;31mFileNotFoundError\u001b[0m: [Errno 2] No such file or directory: 'bloodtype1.txt'"
     ]
    }
   ],
   "source": [
    "bldcount('bloodtype1.txt')"
   ]
  },
  {
   "cell_type": "code",
   "execution_count": null,
   "id": "ba239807",
   "metadata": {},
   "outputs": [],
   "source": []
  }
 ],
 "metadata": {
  "kernelspec": {
   "display_name": "Python 3 (ipykernel)",
   "language": "python",
   "name": "python3"
  },
  "language_info": {
   "codemirror_mode": {
    "name": "ipython",
    "version": 3
   },
   "file_extension": ".py",
   "mimetype": "text/x-python",
   "name": "python",
   "nbconvert_exporter": "python",
   "pygments_lexer": "ipython3",
   "version": "3.11.4"
  }
 },
 "nbformat": 4,
 "nbformat_minor": 5
}
